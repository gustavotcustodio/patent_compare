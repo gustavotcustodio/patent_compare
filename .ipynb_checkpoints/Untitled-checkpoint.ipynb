{
 "cells": [
  {
   "cell_type": "code",
   "execution_count": 22,
   "metadata": {},
   "outputs": [],
   "source": [
    "from literature_auto_search import LiteratureAutoSearch"
   ]
  },
  {
   "cell_type": "code",
   "execution_count": 23,
   "metadata": {},
   "outputs": [
    {
     "name": "stdout",
     "output_type": "stream",
     "text": [
      "Digite o nome da patente para ser buscada: tesoura\n",
      "Digite o número de artigos mais relevantes para ser recuperados: 5\n"
     ]
    },
    {
     "ename": "AttributeError",
     "evalue": "'LiteratureAutoSearch' object has no attribute 'get_pub_info'",
     "output_type": "error",
     "traceback": [
      "\u001b[0;31m---------------------------------------------------------------------------\u001b[0m",
      "\u001b[0;31mAttributeError\u001b[0m                            Traceback (most recent call last)",
      "\u001b[0;32m<ipython-input-23-78df3d9e4ad4>\u001b[0m in \u001b[0;36m<module>\u001b[0;34m\u001b[0m\n\u001b[1;32m      5\u001b[0m \u001b[0;34m\u001b[0m\u001b[0m\n\u001b[1;32m      6\u001b[0m \u001b[0mpublications\u001b[0m \u001b[0;34m=\u001b[0m \u001b[0msearcher\u001b[0m\u001b[0;34m.\u001b[0m\u001b[0msearch_scholar\u001b[0m\u001b[0;34m(\u001b[0m\u001b[0mquery\u001b[0m\u001b[0;34m,\u001b[0m \u001b[0mn_results\u001b[0m\u001b[0;34m)\u001b[0m\u001b[0;34m\u001b[0m\u001b[0;34m\u001b[0m\u001b[0m\n\u001b[0;32m----> 7\u001b[0;31m \u001b[0mn_citations\u001b[0m \u001b[0;34m=\u001b[0m \u001b[0msearcher\u001b[0m\u001b[0;34m.\u001b[0m\u001b[0mget_pub_info\u001b[0m\u001b[0;34m(\u001b[0m\u001b[0mpublications\u001b[0m\u001b[0;34m,\u001b[0m \u001b[0;34m'cytedby'\u001b[0m\u001b[0;34m)\u001b[0m\u001b[0;34m\u001b[0m\u001b[0;34m\u001b[0m\u001b[0m\n\u001b[0m\u001b[1;32m      8\u001b[0m \u001b[0msearcher\u001b[0m\u001b[0;34m.\u001b[0m\u001b[0mplot_hist_article\u001b[0m\u001b[0;34m(\u001b[0m\u001b[0mn_citations\u001b[0m\u001b[0;34m,\u001b[0m \u001b[0;34m'número de citações'\u001b[0m\u001b[0;34m)\u001b[0m\u001b[0;34m\u001b[0m\u001b[0;34m\u001b[0m\u001b[0m\n\u001b[1;32m      9\u001b[0m \u001b[0;34m\u001b[0m\u001b[0m\n",
      "\u001b[0;31mAttributeError\u001b[0m: 'LiteratureAutoSearch' object has no attribute 'get_pub_info'"
     ]
    }
   ],
   "source": [
    "searcher = LiteratureAutoSearch()\n",
    "query = input('Digite o nome da patente para ser buscada: ')\n",
    "n_results = int(input('Digite o número de artigos mais'+\n",
    "                      ' relevantes para ser recuperados: '))\n",
    "\n",
    "publications = searcher.search_scholar(query, n_results)\n",
    "n_citations = searcher.get_pub_info(publications, 'cytedby')\n",
    "searcher.plot_hist_article(n_citations, 'número de citações')\n",
    "\n",
    "#print(results[0].bib['title'])\n",
    "#searcher.plot_hist_article(years, 'número de citações', n_bins=10)"
   ]
  },
  {
   "cell_type": "code",
   "execution_count": null,
   "metadata": {},
   "outputs": [],
   "source": []
  }
 ],
 "metadata": {
  "kernelspec": {
   "display_name": "Python 3",
   "language": "python",
   "name": "python3"
  },
  "language_info": {
   "codemirror_mode": {
    "name": "ipython",
    "version": 3
   },
   "file_extension": ".py",
   "mimetype": "text/x-python",
   "name": "python",
   "nbconvert_exporter": "python",
   "pygments_lexer": "ipython3",
   "version": "3.7.3"
  }
 },
 "nbformat": 4,
 "nbformat_minor": 2
}
